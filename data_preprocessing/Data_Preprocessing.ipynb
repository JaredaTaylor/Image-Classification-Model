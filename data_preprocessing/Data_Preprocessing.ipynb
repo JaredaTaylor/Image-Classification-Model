{
  "cells": [
    {
      "cell_type": "markdown",
      "id": "cf798513",
      "metadata": {
        "id": "cf798513"
      },
      "source": [
        "# Data Preprocessing - Distracted Driver Detection\n",
        "\n",
        "Please put your name and student id\n",
        "\n",
        "    Jared Taylor\n"
      ]
    },
    {
      "cell_type": "markdown",
      "id": "VRLNrFDU3dKp",
      "metadata": {
        "id": "VRLNrFDU3dKp"
      },
      "source": [
        "Read and preprocesses data\n"
      ]
    },
    {
      "cell_type": "code",
      "execution_count": null,
      "id": "b7e6a263",
      "metadata": {
        "id": "b7e6a263"
      },
      "outputs": [],
      "source": [
        "import cv2\n",
        "import os\n",
        "import numpy as np\n",
        "import glob\n",
        "from dotenv import load_dotenv"
      ]
    },
    {
      "cell_type": "markdown",
      "id": "cee278a0",
      "metadata": {},
      "source": [
        "# Preprocessing of Driver Data"
      ]
    },
    {
      "cell_type": "code",
      "execution_count": null,
      "id": "3a19bd78",
      "metadata": {
        "colab": {
          "base_uri": "https://localhost:8080/"
        },
        "id": "3a19bd78",
        "outputId": "a0089e95-400c-4620-a560-c758599afcd5"
      },
      "outputs": [],
      "source": [
        "#preprocessing class\n",
        "class PreProcessing:\n",
        "  \"\"\"\n",
        "  Goes through all images, returns preprocessed tensor.\n",
        "  \"\"\"\n",
        "\n",
        "  def __init__(self, base_path):\n",
        "      self.base_path = base_path\n",
        "      self.kernel = np.array([[-1, -1, -1],\n",
        "                   [-1, 8,-1],\n",
        "                   [-1, -1, -1]])\n",
        "      print(self.base_path)\n",
        "\n",
        "  def get_colour_type(self, img_path):\n",
        "    image = cv2.imread(img_path)\n",
        "    if len(image.shape) == 3: return 3\n",
        "    else: return 1\n",
        "\n",
        "  def preprocess_image(self, img_path, height, width):\n",
        "    \"\"\"\n",
        "    Function takes the path to the image and applys the preprocessing.\n",
        "    \"\"\"\n",
        "\n",
        "    color_type = self.get_colour_type(img_path)\n",
        "\n",
        "    if color_type == 1:\n",
        "        img = cv2.imread(img_path, 0)\n",
        "        img_gray = cv2.threshold(img,0,255,cv2.THRESH_TRUNC+cv2.THRESH_OTSU) \n",
        "        image_sharp = cv2.filter2D(src=img, ddepth=-1, kernel=self.kernel)\n",
        "\n",
        "    elif color_type == 3:\n",
        "        img = cv2.imread(img_path)\n",
        "        img_gray = cv2.cvtColor(img, cv2.COLOR_BGR2GRAY)\n",
        "        img_gray = cv2.threshold(img_gray,0,255,cv2.THRESH_TRUNC+cv2.THRESH_OTSU)\n",
        "        image_sharp = cv2.filter2D(src=img, ddepth=-1, kernel=self.kernel)\n",
        "        image_sharp = cv2.cvtColor(image_sharp, cv2.COLOR_BGR2GRAY)\n",
        "    \n",
        "\n",
        "    combined = cv2.add(image_sharp, img_gray[1])\n",
        "    dst = cv2.resize(combined, (width, height))\n",
        "    dst = cv2.cvtColor(dst, cv2.COLOR_GRAY2BGR)\n",
        "    \n",
        "    return dst\n",
        "\n",
        "  def get_driver_data(self):\n",
        "    \"\"\"\n",
        "    Returns a dictionary of image name as the key and driver and class as value.\n",
        "    \"\"\"\n",
        "    driver_data = {}\n",
        "    path = os.path.join(self.base_path,'driver_imgs_list.csv')\n",
        "\n",
        "    print('Read drivers data')\n",
        "\n",
        "    with open(path, 'r') as file:\n",
        "      lines = file.readlines()\n",
        "      lines = lines[1:]\n",
        "    file.close()\n",
        "\n",
        "    for line in lines:\n",
        "      arr = line.strip().split(',')\n",
        "      driver_data[arr[2]] = (arr[0], arr[1])\n",
        "    \n",
        "    return driver_data\n",
        "\n",
        "  def load_train_data(self, height, width):\n",
        "    \"\"\"\n",
        "    \n",
        "    \"\"\"\n",
        "    x_train = []\n",
        "    y_train = []\n",
        "    driver_ids = []\n",
        "\n",
        "    driver_data = self.get_driver_data()\n",
        "\n",
        "    print('Read train images')\n",
        "    for class_number in range(10):\n",
        "        print(f'Load folder c{class_number}')\n",
        "        class_number_str = 'c' + str(class_number)\n",
        "        path = os.path.join(self.base_path, 'imgs/train', class_number_str, '*.jpg')\n",
        "        file_paths = glob.glob(path)  # Gets all file names matching given path.\n",
        "        for file_path in file_paths:\n",
        "            file_name = os.path.basename(file_path)\n",
        "            image = self.preprocess_image(file_path, height, width)\n",
        "            x_train.append(image)\n",
        "            y_train.append(class_number)\n",
        "            driver_id = driver_data[file_name][0]\n",
        "            driver_ids.append(driver_id)\n",
        "\n",
        "    return x_train, y_train, driver_ids\n",
        "\n",
        "  # Not used since data has no classification\n",
        "  def load_test_data(self, height, width):\n",
        "    x_test = []\n",
        "    x_test_ids = []\n",
        "    \n",
        "    print('Read test images')\n",
        "\n",
        "    path = os.path.join(self.base_path, 'imgs/test/*.jpg')\n",
        "    file_paths = glob.glob(path)\n",
        "    number_of_files = len(file_paths)\n",
        "\n",
        "    for count, file_path in enumerate(file_paths):\n",
        "        file_name = os.path.basename(file_path)\n",
        "        image = self.preprocess_image(file_path, height, width)\n",
        "        x_test.append(image)\n",
        "        x_test_ids.append(file_name)\n",
        "        if count % 1000 == 0:\n",
        "            print(f\"Read {count} images from {number_of_files}\")\n",
        "\n",
        "    return x_test, x_test_ids\n",
        "\n",
        "\n",
        "  def split_train_data(self, x_train, y_train, driver_ids):\n",
        "    '''\n",
        "    split the data into train and test sets\n",
        "    divide data based on driver_ids, this gives the divison of ~73% in train and ~27% in test\n",
        "    '''\n",
        "    idList = []\n",
        "    newTrain_x = []\n",
        "    newTrain_y = []\n",
        "    newTest_x = []\n",
        "    newTest_y = []\n",
        "    for driver in driver_ids:\n",
        "        if driver not in idList:\n",
        "            idList.append(driver)\n",
        "    trainData = idList[:20]\n",
        "    testData = idList[20:]\n",
        "    #iterate trough x_train, compare driver_ids\n",
        "    for ind in range(len(x_train)):\n",
        "        if driver_ids[ind] in trainData:\n",
        "            newTrain_x.append(x_train[ind])\n",
        "            newTrain_y.append(y_train[ind])\n",
        "        if driver_ids[ind] in testData:\n",
        "            newTest_x.append(x_train[ind])\n",
        "            newTest_y.append(y_train[ind])\n",
        "    return newTrain_x, newTrain_y, newTest_x, newTest_y\n"
      ]
    },
    {
      "cell_type": "code",
      "execution_count": null,
      "id": "7cdbfd54",
      "metadata": {},
      "outputs": [],
      "source": [
        "#get processed data\n",
        "PATH = 'data'\n",
        "p = PreProcessing(PATH)\n",
        "x_train, y_train, driver_ids = p.load_train_data(224, 224)\n",
        "#newTrain_x, newTrain_y, newTest_x, newTest_y = p.split_train_data(x_train, y_train, driver_ids)\n",
        "#print(len(x_train))\n",
        "#print(len(newTrain_x) + newTest_x)\n",
        "#x_test, x_test_id = p.load_test_data(224, 224)"
      ]
    },
    {
      "cell_type": "code",
      "execution_count": null,
      "id": "34fd2e47",
      "metadata": {
        "colab": {
          "base_uri": "https://localhost:8080/",
          "height": 279
        },
        "id": "34fd2e47",
        "outputId": "060ac4d2-2fe3-4498-f839-bbd121ddde16",
        "scrolled": true
      },
      "outputs": [],
      "source": [
        "# data visualization\n",
        "temp = x_train[np.random.randint(0, len(x_train))]\n",
        "temp = x_train[np.random.randint(0, len(x_train))]\n",
        "cv2.imshow('image', temp)\n",
        "cv2.waitKey(0)\n",
        "cv2.destroyAllWindows"
      ]
    },
    {
      "cell_type": "code",
      "execution_count": null,
      "id": "06c93a78",
      "metadata": {
        "colab": {
          "base_uri": "https://localhost:8080/"
        },
        "id": "06c93a78",
        "outputId": "bec39077-e72b-4702-b45c-d87a41f6516f"
      },
      "outputs": [],
      "source": [
        "# split train data\n",
        "newTrain_x, newTrain_y, newTest_x, newTest_y = p.split_train_data(x_train, y_train, driver_ids)\n",
        "print(len(newTrain_x))\n",
        "print(len(newTest_x))\n",
        "\n",
        "# save new train data\n",
        "for img in range(len(newTrain_x)):\n",
        "    c = newTrain_y[img]\n",
        "    filename = 'trainImage' + str(img) + '.png'\n",
        "    directory = r'C:/Users/ ... data/train/' + str(c)\n",
        "    print(directory)\n",
        "    os.chdir(directory)\n",
        "    image = newTrain_x[img]\n",
        "    cv2.imwrite(filename, image)\n",
        "\n",
        "for img in range(len(newTest_x)):\n",
        "    c = newTest_y[img]\n",
        "    filename = 'testImage' + str(img) + '.png'\n",
        "    directory = r'C:/Users/ ... data/test/' + str(c)\n",
        "    os.chdir(directory)\n",
        "    image = newTest_x[img]\n",
        "    cv2.imwrite(filename, image)\n",
        "\n"
      ]
    }
  ],
  "metadata": {
    "colab": {
      "collapsed_sections": [],
      "name": "A1.ipynb",
      "provenance": []
    },
    "kernelspec": {
      "display_name": "Python 3",
      "language": "python",
      "name": "python3"
    },
    "language_info": {
      "codemirror_mode": {
        "name": "ipython",
        "version": 3
      },
      "file_extension": ".py",
      "mimetype": "text/x-python",
      "name": "python",
      "nbconvert_exporter": "python",
      "pygments_lexer": "ipython3",
      "version": "3.8.8"
    }
  },
  "nbformat": 4,
  "nbformat_minor": 5
}
