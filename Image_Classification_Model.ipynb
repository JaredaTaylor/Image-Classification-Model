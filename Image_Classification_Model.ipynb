{
  "cells": [
    {
      "cell_type": "markdown",
      "id": "cf798513",
      "metadata": {
        "id": "cf798513"
      },
      "source": [
        "# CISC/CMPE 452/COGS 400 Group Project - Distracted Driver Detection\n",
        "\n",
        "Please put your name and student id\n",
        "\n",
        "    Jared Taylor, 20075820\n"
      ]
    },
    {
      "cell_type": "markdown",
      "id": "VRLNrFDU3dKp",
      "metadata": {
        "id": "VRLNrFDU3dKp"
      },
      "source": [
        "1. Create model\n",
        "2. Train model\n",
        "3. Test model"
      ]
    },
    {
      "cell_type": "code",
      "execution_count": null,
      "id": "b7e6a263",
      "metadata": {
        "id": "b7e6a263"
      },
      "outputs": [],
      "source": [
        "import numpy as np\n",
        "import tensorflow as tf\n",
        "from tensorflow import keras\n",
        "import matplotlib.pyplot as plt\n",
        "from tensorflow.python.client import device_lib\n",
        "#from dotenv import load_dotenv"
      ]
    },
    {
      "cell_type": "code",
      "execution_count": null,
      "id": "2e8a3461",
      "metadata": {},
      "outputs": [],
      "source": [
        "print(\"Num GPUs Available: \", len(tf.config.list_physical_devices('GPU')))\n",
        "print(device_lib.list_local_devices())"
      ]
    },
    {
      "cell_type": "markdown",
      "id": "cee278a0",
      "metadata": {},
      "source": [
        "# Model Implementation"
      ]
    },
    {
      "cell_type": "code",
      "execution_count": null,
      "id": "883bc04c",
      "metadata": {},
      "outputs": [],
      "source": [
        "# define data generators\n",
        "trainDir = 'D:/Documents/Driver Detection/ppdata/train'\n",
        "testDir = 'D:/Documents/Driver Detection/ppdata/test'\n",
        "\n",
        "trainDataGen = keras.preprocessing.image.ImageDataGenerator(rescale = 1./255,\n",
        "                                    rotation_range=40,\n",
        "                                   width_shift_range=0.2,\n",
        "                                   height_shift_range=0.2,\n",
        "                                   zoom_range=0.2,\n",
        "                                   shear_range=0.2,\n",
        "                                   horizontal_flip=True,\n",
        "                                   fill_mode='nearest')\n",
        "testDataGen = keras.preprocessing.image.ImageDataGenerator(rescale = 1./255)\n",
        "\n",
        "trainGenerator = trainDataGen.flow_from_directory(trainDir, batch_size = 32, class_mode = 'categorical', target_size = (112, 112))\n",
        "testGenerator = testDataGen.flow_from_directory(testDir, batch_size = 32, class_mode = 'categorical', target_size = (112, 112))"
      ]
    },
    {
      "cell_type": "code",
      "execution_count": null,
      "id": "53d44741",
      "metadata": {},
      "outputs": [],
      "source": [
        "# callback to stop training at certain threshold\n",
        "class myCallback(keras.callbacks.Callback):\n",
        "    \n",
        "    # change cause won't ever happen\n",
        "    def on_epoch_end(self, epoch, logs = {}):\n",
        "        if (logs.get('acc') > 0.99 and logs.get('val_acc') > 0.99):\n",
        "            print('\\nCancelling training as model reached 99 accuracy and 99 validation acc.')\n",
        "            self.model.stop_training == True\n"
      ]
    },
    {
      "cell_type": "code",
      "execution_count": null,
      "id": "9785b703",
      "metadata": {},
      "outputs": [],
      "source": [
        "# plot results\n",
        "def plotResult(history):\n",
        "    acc = history.history['accuracy']\n",
        "    valAcc = history.history['val_accuracy']\n",
        "    loss = history.history['loss']\n",
        "    valLoss = history.history['val_loss']\n",
        "\n",
        "    epochs = range(len(acc))\n",
        "\n",
        "    plt.plot(epochs, acc, 'r', label = 'Training Accuracy')\n",
        "    plt.plot(epochs, valAcc, 'b', label = 'Validation Accuracy')\n",
        "    plt.title('Training and Validation Accuracy')\n",
        "    plt.legend(loc = 0)\n",
        "    plt.figure()\n",
        "    plt.show()"
      ]
    },
    {
      "cell_type": "markdown",
      "id": "eccdb229",
      "metadata": {},
      "source": [
        "# CNN Model"
      ]
    },
    {
      "cell_type": "code",
      "execution_count": null,
      "id": "29d82a53",
      "metadata": {
        "id": "29d82a53"
      },
      "outputs": [],
      "source": [
        "# CNN model\n",
        "width, height = 112, 112\n",
        "\n",
        "inputShape = (width, height, 3)\n",
        "\n",
        "inputLayer = keras.layers.Input(shape = inputShape)\n",
        "outputLayer = keras.layers.Dense(10, activation = 'softmax')\n",
        "\n",
        "x = keras.layers.Conv2D(32, (2, 2), activation = 'relu')(inputLayer)\n",
        "x = keras.layers.BatchNormalization(axis = 3)(x)\n",
        "x = keras.layers.MaxPooling2D(pool_size = (2, 2))(x)\n",
        "x = keras.layers.BatchNormalization()(x)\n",
        "\n",
        "x = keras.layers.Conv2D(32, (2, 2), activation = 'relu')(x)\n",
        "x = keras.layers.BatchNormalization(axis = 3)(x)\n",
        "x = keras.layers.MaxPooling2D(pool_size = (2, 2))(x)\n",
        "x = keras.layers.BatchNormalization()(x)\n",
        "\n",
        "x = keras.layers.Conv2D(64, (2, 2), activation = 'relu')(x)\n",
        "x = keras.layers.BatchNormalization(axis = 3)(x)\n",
        "x = keras.layers.MaxPooling2D(pool_size = (2, 2))(x)\n",
        "x = keras.layers.BatchNormalization()(x)\n",
        "\n",
        "x = keras.layers.Flatten()(x)\n",
        "x = keras.layers.Dense(1024, activation = 'relu')(x)\n",
        "x = keras.layers.BatchNormalization()(x)\n",
        "x = keras.layers.Dropout(0.2)(x)\n",
        "\n",
        "outputLayer = keras.layers.Dense(10, activation = 'softmax')(x)\n",
        "\n",
        "#if input_tensor\n",
        "\n",
        "cnnModel = keras.Model(inputs = inputLayer, outputs = outputLayer)\n",
        "cnnModel.compile(optimizer = keras.optimizers.RMSprop(lr = 0.0001), loss = 'categorical_crossentropy', metrics = ['accuracy'])\n",
        "cnnModel.summary()\n",
        "#keras.utils.plot_model(cnnModel, to_file='cnn_model.png', show_shapes=True, show_layer_names=True)"
      ]
    },
    {
      "cell_type": "code",
      "execution_count": null,
      "id": "a2bc6d80",
      "metadata": {},
      "outputs": [],
      "source": [
        "# train/fit model\n",
        "callbacks = myCallback()\n",
        "history = cnnModel.fit(x = trainGenerator, validation_data = testGenerator, validation_freq = 1, epochs = 10, verbose = 1) #steps_per_epoch = 100"
      ]
    },
    {
      "cell_type": "code",
      "execution_count": null,
      "id": "9a221df3",
      "metadata": {},
      "outputs": [],
      "source": [
        "# plot training and results\n",
        "print(history.history.keys())\n",
        "plotResult(history)"
      ]
    },
    {
      "cell_type": "markdown",
      "id": "5ec3771e",
      "metadata": {},
      "source": [
        "# InceptionV3 Model"
      ]
    },
    {
      "cell_type": "code",
      "execution_count": null,
      "id": "3e567f44",
      "metadata": {
        "colab": {
          "base_uri": "https://localhost:8080/"
        },
        "id": "3e567f44",
        "outputId": "2bab9466-578c-4ced-cac8-0294abe24044"
      },
      "outputs": [],
      "source": [
        "# Import InceptionV3 and perform transfer learning\n",
        "from keras.applications.inception_v3 import InceptionV3\n",
        "preTrainedModel = InceptionV3(input_shape = (112, 112, 3), include_top = False, weights = None) #weights = 'imagenet'\n",
        "WEIGHTS_PATH_NO_TOP = (\n",
        "    'https://github.com/fchollet/deep-learning-models/'\n",
        "    'releases/download/v0.5/'\n",
        "    'inception_v3_weights_tf_dim_ordering_tf_kernels_notop.h5')\n",
        "iv3Weights = keras.utils.get_file('inception_v3_weights_tf_dim_ordering_tf_kernels_notop.h5', WEIGHTS_PATH_NO_TOP, cache_subdir='models',\n",
        "                file_hash='bcbd6486424b2319ff4ef7d526e38f63')\n",
        "\n",
        "preTrainedModel.load_weights(iv3Weights)\n",
        "\n",
        "for layer in preTrainedModel.layers:\n",
        "    layer.trainable = False\n",
        "\n",
        "preTrainedModel.summary()\n",
        "\n",
        "# add dense layers after pretrained model\n",
        "lastLayer = preTrainedModel.get_layer('mixed7')\n",
        "lastOutput = lastLayer.output\n",
        "\n",
        "x = keras.layers.Flatten()(lastOutput)\n",
        "x = keras.layers.Dense(1024, activation='relu')(x)\n",
        "x = keras.layers.Dropout(0.2)(x)\n",
        "x = keras.layers.Dense(10, activation = 'softmax')(x)\n",
        "\n",
        "model = keras.Model(preTrainedModel.input, x)\n",
        "model.compile(optimizer = keras.optimizers.RMSprop(lr = 0.0001), loss = 'categorical_crossentropy', metrics = ['accuracy'])\n",
        "model.summary()\n"
      ]
    },
    {
      "cell_type": "code",
      "execution_count": null,
      "id": "a62dded9",
      "metadata": {},
      "outputs": [],
      "source": [
        "# Train/fit InceptionV3 model\n",
        "inceptionHistory = model.fit(x = trainGenerator, validation_data = testGenerator, validation_freq = 1, epochs = 10, verbose = 1) #30 epochs??"
      ]
    },
    {
      "cell_type": "code",
      "execution_count": null,
      "id": "4b29fccb",
      "metadata": {},
      "outputs": [],
      "source": [
        "# plot results\n",
        "plotResult(inceptionHistory)"
      ]
    },
    {
      "cell_type": "code",
      "execution_count": null,
      "id": "3830d2ef",
      "metadata": {
        "colab": {
          "base_uri": "https://localhost:8080/",
          "height": 265
        },
        "id": "3830d2ef",
        "outputId": "431706ac-81b4-4aad-883b-88f6c21a329b"
      },
      "outputs": [],
      "source": [
        "#plot results\n",
        "'''\n",
        "        plt.plot(model1.history['train_acc'], label='train_acc')\n",
        "        plt.plot(model1.history['test_acc'], label='test_acc')\n",
        "        plt.legend()\n",
        "        plt.show()\n",
        "'''\n"
      ]
    },
    {
      "cell_type": "code",
      "execution_count": null,
      "id": "409344f7",
      "metadata": {
        "colab": {
          "base_uri": "https://localhost:8080/"
        },
        "id": "409344f7",
        "outputId": "c211fdb1-31b8-4fa3-8efe-269e36bcce94",
        "scrolled": true
      },
      "outputs": [],
      "source": [
        "#predict\n",
        "#y_pred = model1.predict(x_test)\n",
        "#evaluator(y_test, y_pred)"
      ]
    }
  ],
  "metadata": {
    "colab": {
      "collapsed_sections": [],
      "name": "A1.ipynb",
      "provenance": []
    },
    "kernelspec": {
      "display_name": "Python 3",
      "language": "python",
      "name": "python3"
    },
    "language_info": {
      "codemirror_mode": {
        "name": "ipython",
        "version": 3
      },
      "file_extension": ".py",
      "mimetype": "text/x-python",
      "name": "python",
      "nbconvert_exporter": "python",
      "pygments_lexer": "ipython3",
      "version": "3.8.8"
    }
  },
  "nbformat": 4,
  "nbformat_minor": 5
}
