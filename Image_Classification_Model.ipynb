{
  "cells": [
    {
      "cell_type": "markdown",
      "id": "cf798513",
      "metadata": {
        "id": "cf798513"
      },
      "source": [
        "# Distracted Driver Detection\n",
        "\n",
        "\n",
        "\n",
        "    \n"
      ]
    },
    {
      "cell_type": "markdown",
      "id": "VRLNrFDU3dKp",
      "metadata": {
        "id": "VRLNrFDU3dKp"
      },
      "source": [
        "1. Read and preprocesses data\n",
        "2. Create model\n",
        "3. Train model\n",
        "4. Test model"
      ]
    },
    {
      "cell_type": "code",
      "execution_count": 22,
      "id": "b7e6a263",
      "metadata": {
        "id": "b7e6a263"
      },
      "outputs": [],
      "source": [
        "import cv2\n",
        "import os\n",
        "import glob\n",
        "import numpy as np\n",
        "import tensorflow as tf\n",
        "from tensorflow import keras\n",
        "import matplotlib.pyplot as plt\n",
        "#from dotenv import load_dotenv"
      ]
    },
    {
      "cell_type": "markdown",
      "id": "cee278a0",
      "metadata": {},
      "source": [
        "# Preprocessing of Driver Data"
      ]
    },
    {
      "cell_type": "code",
      "execution_count": 19,
      "id": "3a19bd78",
      "metadata": {
        "colab": {
          "base_uri": "https://localhost:8080/"
        },
        "id": "3a19bd78",
        "outputId": "a0089e95-400c-4620-a560-c758599afcd5"
      },
      "outputs": [],
      "source": [
        "#preprocessing class\n",
        "class PreProcessing:\n",
        "  \"\"\"\n",
        "  Goes through all images, returns preprocessed tensor.\n",
        "  \"\"\"\n",
        "\n",
        "  def __init__(self, base_path):\n",
        "      self.base_path = base_path\n",
        "      self.kernel = np.array([[-1, -1, -1],\n",
        "                   [-1, 8,-1],\n",
        "                   [-1, -1, -1]])\n",
        "      print(self.base_path)\n",
        "\n",
        "  def get_colour_type(self, img_path):\n",
        "    image = cv2.imread(img_path)\n",
        "    if len(image.shape) == 3: return 3\n",
        "    else: return 1\n",
        "\n",
        "  def preprocess_image(self, img_path, height, width):\n",
        "    \"\"\"\n",
        "    Function takes the path to the image and applys the preprocessing.\n",
        "    \"\"\"\n",
        "\n",
        "    color_type = self.get_colour_type(img_path)\n",
        "\n",
        "    if color_type == 1:\n",
        "        img = cv2.imread(img_path, 0)\n",
        "        img_gray = cv2.threshold(img,0,255,cv2.THRESH_TRUNC+cv2.THRESH_OTSU) \n",
        "        image_sharp = cv2.filter2D(src=img, ddepth=-1, kernel=self.kernel)\n",
        "\n",
        "    elif color_type == 3:\n",
        "        img = cv2.imread(img_path)\n",
        "        img_gray = cv2.cvtColor(img, cv2.COLOR_BGR2GRAY)\n",
        "        img_gray = cv2.threshold(img_gray,0,255,cv2.THRESH_TRUNC+cv2.THRESH_OTSU)\n",
        "        image_sharp = cv2.filter2D(src=img, ddepth=-1, kernel=self.kernel)\n",
        "        image_sharp = cv2.cvtColor(image_sharp, cv2.COLOR_BGR2GRAY)\n",
        "    \n",
        "\n",
        "    combined = cv2.add(image_sharp, img_gray[1])\n",
        "    dst = cv2.resize(combined, (width, height))\n",
        "    dst = cv2.cvtColor(dst, cv2.COLOR_GRAY2BGR)\n",
        "    \n",
        "    return dst\n",
        "\n",
        "  def get_driver_data(self):\n",
        "    \"\"\"\n",
        "    Returns a dictionary of image name as the key and driver and class as value.\n",
        "    \"\"\"\n",
        "    driver_data = {}\n",
        "    path = os.path.join(self.base_path,'driver_imgs_list.csv')\n",
        "\n",
        "    print('Read drivers data')\n",
        "\n",
        "    with open(path, 'r') as file:\n",
        "      lines = file.readlines()\n",
        "      lines = lines[1:]\n",
        "    file.close()\n",
        "\n",
        "    for line in lines:\n",
        "      arr = line.strip().split(',')\n",
        "      driver_data[arr[2]] = (arr[0], arr[1])\n",
        "    \n",
        "    return driver_data\n",
        "\n",
        "  def load_train_data(self, height, width):\n",
        "    \"\"\"\n",
        "    \n",
        "    \"\"\"\n",
        "    x_train = []\n",
        "    y_train = []\n",
        "    driver_ids = []\n",
        "\n",
        "    driver_data = self.get_driver_data()\n",
        "\n",
        "    print('Read train images')\n",
        "    for class_number in range(10):\n",
        "        print(f'Load folder c{class_number}')\n",
        "        class_number_str = 'c' + str(class_number)\n",
        "        path = os.path.join(self.base_path, 'imgs/train', class_number_str, '*.jpg')\n",
        "        file_paths = glob.glob(path)  # Gets all file names matching given path.\n",
        "        for file_path in file_paths:\n",
        "            file_name = os.path.basename(file_path)\n",
        "            image = self.preprocess_image(file_path, height, width)\n",
        "            x_train.append(image)\n",
        "            y_train.append(class_number)\n",
        "            driver_id = driver_data[file_name][0]\n",
        "            driver_ids.append(driver_id)\n",
        "\n",
        "    return x_train, y_train, driver_ids\n",
        "\n",
        "  # Not used since data has no classification\n",
        "  def load_test_data(self, height, width):\n",
        "    x_test = []\n",
        "    x_test_ids = []\n",
        "    \n",
        "    print('Read test images')\n",
        "\n",
        "    path = os.path.join(self.base_path, 'imgs/test/*.jpg')\n",
        "    file_paths = glob.glob(path)\n",
        "    number_of_files = len(file_paths)\n",
        "\n",
        "    for count, file_path in enumerate(file_paths):\n",
        "        file_name = os.path.basename(file_path)\n",
        "        image = self.preprocess_image(file_path, height, width)\n",
        "        x_test.append(image)\n",
        "        x_test_ids.append(file_name)\n",
        "        if count % 1000 == 0:\n",
        "            print(f\"Read {count} images from {number_of_files}\")\n",
        "\n",
        "    return x_test, x_test_ids\n",
        "\n",
        "\n",
        "  def split_train_data(self, x_train, y_train, driver_ids):\n",
        "    '''\n",
        "    split the data into train and test sets\n",
        "    divide data based on driver_ids, this gives the divison of ~73% in train and ~27% in test\n",
        "    '''\n",
        "    idList = []\n",
        "    newTrain_x = []\n",
        "    newTrain_y = []\n",
        "    newTest_x = []\n",
        "    newTest_y = []\n",
        "    for driver in driver_ids:\n",
        "        if driver not in idList:\n",
        "            idList.append(driver)\n",
        "    trainData = idList[:20]\n",
        "    testData = idList[20:]\n",
        "    #iterate trough x_train, compare driver_ids\n",
        "    for ind in range(len(x_train)):\n",
        "        if driver_ids[ind] in trainData:\n",
        "            newTrain_x.append(x_train[ind])\n",
        "            newTrain_y.append(y_train[ind])\n",
        "        if driver_ids[ind] in testData:\n",
        "            newTest_x.append(x_train[ind])\n",
        "            newTest_y.append(y_train[ind])\n",
        "    return newTrain_x, newTrain_y, newTest_x, newTest_y\n"
      ]
    },
    {
      "cell_type": "code",
      "execution_count": 20,
      "id": "7cdbfd54",
      "metadata": {},
      "outputs": [
        {
          "name": "stdout",
          "output_type": "stream",
          "text": [
            "data\n",
            "Read drivers data\n",
            "Read train images\n",
            "Load folder c0\n",
            "Load folder c1\n",
            "Load folder c2\n",
            "Load folder c3\n",
            "Load folder c4\n",
            "Load folder c5\n",
            "Load folder c6\n",
            "Load folder c7\n",
            "Load folder c8\n",
            "Load folder c9\n"
          ]
        }
      ],
      "source": [
        "#get processed data\n",
        "PATH = 'data'\n",
        "p = PreProcessing(PATH)\n",
        "x_train, y_train, driver_ids = p.load_train_data(224, 224)\n",
        "#newTrain_x, newTrain_y, newTest_x, newTest_y = p.split_train_data(x_train, y_train, driver_ids)\n",
        "#print(len(x_train))\n",
        "#print(len(newTrain_x) + newTest_x)\n",
        "#x_test, x_test_id = p.load_test_data(224, 224)"
      ]
    },
    {
      "cell_type": "code",
      "execution_count": 44,
      "id": "34fd2e47",
      "metadata": {
        "colab": {
          "base_uri": "https://localhost:8080/",
          "height": 279
        },
        "id": "34fd2e47",
        "outputId": "060ac4d2-2fe3-4498-f839-bbd121ddde16",
        "scrolled": true
      },
      "outputs": [
        {
          "data": {
            "text/plain": [
              "<function destroyAllWindows>"
            ]
          },
          "execution_count": 44,
          "metadata": {},
          "output_type": "execute_result"
        }
      ],
      "source": [
        "# data visualization\n",
        "temp = x_train[np.random.randint(0, len(x_train))]\n",
        "temp = x_train[np.random.randint(0, len(x_train))]\n",
        "cv2.imshow('image', temp)\n",
        "cv2.waitKey(0)\n",
        "cv2.destroyAllWindows"
      ]
    },
    {
      "cell_type": "code",
      "execution_count": 52,
      "id": "06c93a78",
      "metadata": {
        "colab": {
          "base_uri": "https://localhost:8080/"
        },
        "id": "06c93a78",
        "outputId": "bec39077-e72b-4702-b45c-d87a41f6516f"
      },
      "outputs": [
        {
          "name": "stdout",
          "output_type": "stream",
          "text": [
            "16458\n",
            "5966\n"
          ]
        },
        {
          "data": {
            "text/plain": [
              "\"\\nfor img in range(len(newTrain_x)):\\n    c = newTrain_y[img]\\n    filename = 'trainImage' + str(img) + '.png'\\n    directory = r'C:/Users/setcl/Documents/Work/School/5th Year/Fall/Neural & Genetic/Research Project/ppdata/train/' + str(c)\\n    print(directory)\\n    os.chdir(directory)\\n    image = newTrain_x[img]\\n    cv2.imwrite(filename, image)\\n\\nfor img in range(len(newTest_x)):\\n    c = newTest_y[img]\\n    filename = 'testImage' + str(img) + '.png'\\n    directory = r'C:/Users/setcl/Documents/Work/School/5th Year/Fall/Neural & Genetic/Research Project/ppdata/test/' + str(c)\\n    os.chdir(directory)\\n    image = newTest_x[img]\\n    cv2.imwrite(filename, image)\\n\""
            ]
          },
          "execution_count": 52,
          "metadata": {},
          "output_type": "execute_result"
        }
      ],
      "source": [
        "# split train data\n",
        "newTrain_x, newTrain_y, newTest_x, newTest_y = p.split_train_data(x_train, y_train, driver_ids)\n",
        "print(len(newTrain_x))\n",
        "print(len(newTest_x))\n",
        "\n",
        "# save new train data\n",
        "'''\n",
        "for img in range(len(newTrain_x)):\n",
        "    c = newTrain_y[img]\n",
        "    filename = 'trainImage' + str(img) + '.png'\n",
        "    directory = r'train_path' + str(c)\n",
        "    print(directory)\n",
        "    os.chdir(directory)\n",
        "    image = newTrain_x[img]\n",
        "    cv2.imwrite(filename, image)\n",
        "\n",
        "for img in range(len(newTest_x)):\n",
        "    c = newTest_y[img]\n",
        "    filename = 'testImage' + str(img) + '.png'\n",
        "    directory = r'test_path' + str(c)\n",
        "    os.chdir(directory)\n",
        "    image = newTest_x[img]\n",
        "    cv2.imwrite(filename, image)\n",
        "'''\n"
      ]
    },
    {
      "cell_type": "code",
      "execution_count": 5,
      "id": "3c528d44",
      "metadata": {
        "id": "3c528d44"
      },
      "outputs": [],
      "source": [
        "def evaluator(y_test, y_pred):\n",
        "    ####################################################################################################\n",
        "    # enter code here to implement the evaluation matrices including confusion matrix, accuracy, precision and recall\n",
        "    \n",
        "    #initialize confusion matrix\n",
        "    pass\n",
        "\n",
        "    ####################################################################################################"
      ]
    },
    {
      "cell_type": "markdown",
      "id": "4e4a6b06",
      "metadata": {
        "id": "4e4a6b06"
      },
      "source": [
        "## Inception-V3 Model"
      ]
    },
    {
      "cell_type": "code",
      "execution_count": 51,
      "id": "883bc04c",
      "metadata": {},
      "outputs": [
        {
          "name": "stdout",
          "output_type": "stream",
          "text": [
            "Found 16458 images belonging to 10 classes.\n",
            "Found 5966 images belonging to 10 classes.\n"
          ]
        }
      ],
      "source": [
        "# define data generators\n",
        "trainDir = 'train_path'\n",
        "testDir = 'test_path'\n",
        "\n",
        "trainDataGen = keras.preprocessing.image.ImageDataGenerator(rescale = 1./255) #, rotation_range = 40, width_shift_range = 0.2, height_shift_range = 0.2, zoom_range = 0.2, shear_range = 0.2, horizontal_flip = True, fill_mode = 'nearest')\n",
        "testDataGen = keras.preprocessing.image.ImageDataGenerator(rescale = 1./255)\n",
        "\n",
        "trainGenerator = trainDataGen.flow_from_directory(trainDir, batch_size = 100, class_mode = 'categorical', target_size = (224, 224))\n",
        "testGenerator = testDataGen.flow_from_directory(testDir, batch_size = 100, class_mode = 'categorical', target_size = (224, 224))"
      ]
    },
    {
      "cell_type": "code",
      "execution_count": 53,
      "id": "53d44741",
      "metadata": {},
      "outputs": [],
      "source": [
        "# callback to stop training at certain threshold\n",
        "class myCallback(keras.callbacks.Callback):\n",
        "    \n",
        "    # change cause won't ever happen\n",
        "    def on_epoch_end(self, epoch, logs = {}):\n",
        "        if (logs.get('acc') > 0.99 and logs.get('val_acc') > 0.99):\n",
        "            print('\\nCancelling training as model reached 99 accuracy and 99 validation acc.')\n",
        "            self.model.stop_training == True\n"
      ]
    },
    {
      "cell_type": "code",
      "execution_count": 80,
      "id": "9785b703",
      "metadata": {},
      "outputs": [],
      "source": [
        "# plot results\n",
        "def plotResult(history):\n",
        "    acc = history.history['accuracy']\n",
        "    valAcc = history.history['val_accuracy']\n",
        "    loss = history.history['loss']\n",
        "    valLoss = history.history['val_loss']\n",
        "\n",
        "    epochs = range(len(acc))\n",
        "\n",
        "    plt.plot(epochs, acc, 'r', label = 'Training Accuracy')\n",
        "    plt.plot(epochs, valAcc, 'b', label = 'Validation Accuracy')\n",
        "    plt.title('Training and Validation Accuracy')\n",
        "    plt.legend(loc = 0)\n",
        "    plt.figure()\n",
        "    plt.show()"
      ]
    },
    {
      "cell_type": "code",
      "execution_count": 78,
      "id": "29d82a53",
      "metadata": {
        "id": "29d82a53"
      },
      "outputs": [
        {
          "name": "stdout",
          "output_type": "stream",
          "text": [
            "Model: \"model_13\"\n",
            "_________________________________________________________________\n",
            " Layer (type)                Output Shape              Param #   \n",
            "=================================================================\n",
            " input_15 (InputLayer)       [(None, 224, 224, 3)]     0         \n",
            "                                                                 \n",
            " conv2d_133 (Conv2D)         (None, 223, 223, 32)      416       \n",
            "                                                                 \n",
            " max_pooling2d_43 (MaxPoolin  (None, 111, 111, 32)     0         \n",
            " g2D)                                                            \n",
            "                                                                 \n",
            " conv2d_134 (Conv2D)         (None, 110, 110, 32)      4128      \n",
            "                                                                 \n",
            " max_pooling2d_44 (MaxPoolin  (None, 55, 55, 32)       0         \n",
            " g2D)                                                            \n",
            "                                                                 \n",
            " conv2d_135 (Conv2D)         (None, 54, 54, 64)        8256      \n",
            "                                                                 \n",
            " max_pooling2d_45 (MaxPoolin  (None, 27, 27, 64)       0         \n",
            " g2D)                                                            \n",
            "                                                                 \n",
            " flatten_13 (Flatten)        (None, 46656)             0         \n",
            "                                                                 \n",
            " dense_38 (Dense)            (None, 1024)              47776768  \n",
            "                                                                 \n",
            " dropout_13 (Dropout)        (None, 1024)              0         \n",
            "                                                                 \n",
            " dense_39 (Dense)            (None, 10)                10250     \n",
            "                                                                 \n",
            "=================================================================\n",
            "Total params: 47,799,818\n",
            "Trainable params: 47,799,818\n",
            "Non-trainable params: 0\n",
            "_________________________________________________________________\n"
          ]
        },
        {
          "name": "stderr",
          "output_type": "stream",
          "text": [
            "C:\\Users\\setcl\\Anaconda3\\lib\\site-packages\\keras\\optimizer_v2\\rmsprop.py:130: UserWarning: The `lr` argument is deprecated, use `learning_rate` instead.\n",
            "  super(RMSprop, self).__init__(name, **kwargs)\n"
          ]
        }
      ],
      "source": [
        "# CNN model\n",
        "width, height = 224, 224\n",
        "\n",
        "inputShape = (width, height, 3)\n",
        "\n",
        "inputLayer = keras.layers.Input(shape = inputShape)\n",
        "outputLayer = keras.layers.Dense(10, activation = 'softmax')\n",
        "\n",
        "x = keras.layers.Conv2D(32, (2, 2), activation = 'relu')(inputLayer)\n",
        "x = keras.layers.MaxPooling2D(pool_size = (2, 2))(x)\n",
        "\n",
        "x = keras.layers.Conv2D(32, (2, 2), activation = 'relu')(x)\n",
        "x = keras.layers.MaxPooling2D(pool_size = (2, 2))(x)\n",
        "\n",
        "x = keras.layers.Conv2D(64, (2, 2), activation = 'relu')(x)\n",
        "x = keras.layers.MaxPooling2D(pool_size = (2, 2))(x)\n",
        "\n",
        "x = keras.layers.Flatten()(x)\n",
        "\n",
        "x = keras.layers.Dense(1024, activation = 'relu')(x)\n",
        "x = keras.layers.Dropout(0.2)(x)\n",
        "\n",
        "outputLayer = keras.layers.Dense(10, activation = 'softmax')(x)\n",
        "\n",
        "#if input_tensor\n",
        "\n",
        "cnnModel = keras.Model(inputs = inputLayer, outputs = outputLayer)\n",
        "cnnModel.compile(optimizer = keras.optimizers.RMSprop(lr = 0.0001), loss = 'categorical_crossentropy', metrics = ['accuracy'])\n",
        "cnnModel.summary()\n",
        "#keras.utils.plot_model(cnnModel, to_file='cnn_model.png', show_shapes=True, show_layer_names=True)"
      ]
    },
    {
      "cell_type": "code",
      "execution_count": 79,
      "id": "a2bc6d80",
      "metadata": {},
      "outputs": [
        {
          "name": "stdout",
          "output_type": "stream",
          "text": [
            "Epoch 1/10\n",
            "165/165 [==============================] - 381s 2s/step - loss: 1.7722 - accuracy: 0.4264 - val_loss: 1.8052 - val_accuracy: 0.3932\n",
            "Epoch 2/10\n",
            "165/165 [==============================] - 375s 2s/step - loss: 0.5801 - accuracy: 0.8605 - val_loss: 1.8467 - val_accuracy: 0.4583\n",
            "Epoch 3/10\n",
            "165/165 [==============================] - 375s 2s/step - loss: 0.1753 - accuracy: 0.9611 - val_loss: 1.9864 - val_accuracy: 0.4844\n",
            "Epoch 4/10\n",
            "165/165 [==============================] - 375s 2s/step - loss: 0.0663 - accuracy: 0.9843 - val_loss: 2.5642 - val_accuracy: 0.4574\n",
            "Epoch 5/10\n",
            "165/165 [==============================] - 370s 2s/step - loss: 0.0339 - accuracy: 0.9908 - val_loss: 2.6455 - val_accuracy: 0.4824\n",
            "Epoch 6/10\n",
            "165/165 [==============================] - 366s 2s/step - loss: 0.0187 - accuracy: 0.9956 - val_loss: 2.5608 - val_accuracy: 0.4618\n",
            "Epoch 7/10\n",
            "165/165 [==============================] - 369s 2s/step - loss: 0.0138 - accuracy: 0.9962 - val_loss: 3.0793 - val_accuracy: 0.4150\n",
            "Epoch 8/10\n",
            "165/165 [==============================] - 367s 2s/step - loss: 0.0090 - accuracy: 0.9976 - val_loss: 3.1544 - val_accuracy: 0.4732\n",
            "Epoch 9/10\n",
            "165/165 [==============================] - 361s 2s/step - loss: 0.0063 - accuracy: 0.9985 - val_loss: 4.7638 - val_accuracy: 0.4454\n",
            "Epoch 10/10\n",
            "165/165 [==============================] - 362s 2s/step - loss: 0.0053 - accuracy: 0.9984 - val_loss: 3.7125 - val_accuracy: 0.4574\n"
          ]
        }
      ],
      "source": [
        "# train/fit model\n",
        "callbacks = myCallback()\n",
        "history = cnnModel.fit(x = trainGenerator, validation_data = testGenerator, validation_freq = 1, epochs = 10, verbose = 1) #steps_per_epoch = 100, validation_steps = 100, callbacks = [callbacks]"
      ]
    },
    {
      "cell_type": "code",
      "execution_count": 81,
      "id": "9a221df3",
      "metadata": {},
      "outputs": [
        {
          "name": "stdout",
          "output_type": "stream",
          "text": [
            "dict_keys(['loss', 'accuracy', 'val_loss', 'val_accuracy'])\n"
          ]
        },
        {
          "data": {
            "image/png": "[encoded data removed]",
            "text/plain": [
              "<Figure size 432x288 with 1 Axes>"
            ]
          },
          "metadata": {
            "needs_background": "light"
          },
          "output_type": "display_data"
        },
        {
          "data": {
            "text/plain": [
              "<Figure size 432x288 with 0 Axes>"
            ]
          },
          "metadata": {},
          "output_type": "display_data"
        }
      ],
      "source": [
        "# plot training and results\n",
        "print(history.history.keys())\n",
        "plotResult(history)"
      ]
    },
    {
      "cell_type": "code",
      "execution_count": 7,
      "id": "3e567f44",
      "metadata": {
        "colab": {
          "base_uri": "https://localhost:8080/"
        },
        "id": "3e567f44",
        "outputId": "2bab9466-578c-4ced-cac8-0294abe24044"
      },
      "outputs": [
        {
          "name": "stdout",
          "output_type": "stream",
          "text": [
            "Downloading data from https://storage.googleapis.com/tensorflow/keras-applications/inception_v3/inception_v3_weights_tf_dim_ordering_tf_kernels.h5\n",
            "96116736/96112376 [==============================] - 36s 0us/step\n",
            "96124928/96112376 [==============================] - 36s 0us/step\n"
          ]
        }
      ],
      "source": [
        "#build and train model\n"
      ]
    },
    {
      "cell_type": "code",
      "execution_count": null,
      "id": "4b29fccb",
      "metadata": {},
      "outputs": [],
      "source": [
        "# plot results"
      ]
    },
    {
      "cell_type": "code",
      "execution_count": 11,
      "id": "3830d2ef",
      "metadata": {
        "colab": {
          "base_uri": "https://localhost:8080/",
          "height": 265
        },
        "id": "3830d2ef",
        "outputId": "431706ac-81b4-4aad-883b-88f6c21a329b"
      },
      "outputs": [
        {
          "data": {
            "text/plain": [
              "\"\\n        plt.plot(model1.history['train_acc'], label='train_acc')\\n        plt.plot(model1.history['test_acc'], label='test_acc')\\n        plt.legend()\\n        plt.show()\\n\""
            ]
          },
          "execution_count": 11,
          "metadata": {},
          "output_type": "execute_result"
        }
      ],
      "source": [
        "#plot results\n",
        "'''\n",
        "        plt.plot(model1.history['train_acc'], label='train_acc')\n",
        "        plt.plot(model1.history['test_acc'], label='test_acc')\n",
        "        plt.legend()\n",
        "        plt.show()\n",
        "'''\n"
      ]
    },
    {
      "cell_type": "code",
      "execution_count": 12,
      "id": "409344f7",
      "metadata": {
        "colab": {
          "base_uri": "https://localhost:8080/"
        },
        "id": "409344f7",
        "outputId": "c211fdb1-31b8-4fa3-8efe-269e36bcce94",
        "scrolled": true
      },
      "outputs": [],
      "source": [
        "#predict\n",
        "#y_pred = model1.predict(x_test)\n",
        "#evaluator(y_test, y_pred)"
      ]
    }
  ],
  "metadata": {
    "colab": {
      "collapsed_sections": [],
      "name": "A1.ipynb",
      "provenance": []
    },
    "kernelspec": {
      "display_name": "Python 3",
      "language": "python",
      "name": "python3"
    },
    "language_info": {
      "codemirror_mode": {
        "name": "ipython",
        "version": 3
      },
      "file_extension": ".py",
      "mimetype": "text/x-python",
      "name": "python",
      "nbconvert_exporter": "python",
      "pygments_lexer": "ipython3",
      "version": "3.8.8"
    }
  },
  "nbformat": 4,
  "nbformat_minor": 5
}
